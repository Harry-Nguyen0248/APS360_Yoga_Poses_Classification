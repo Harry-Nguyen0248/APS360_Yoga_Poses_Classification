{
 "cells": [
  {
   "cell_type": "code",
   "execution_count": 4,
   "metadata": {},
   "outputs": [],
   "source": [
    "import torch.nn as nn\n",
    "import torch.nn.functional as F\n",
    "import torch\n",
    "import torch.optim as optim\n",
    "import matplotlib.pyplot as plt"
   ]
  },
  {
   "cell_type": "code",
   "execution_count": null,
   "metadata": {},
   "outputs": [],
   "source": [
    "### Output = (N - F + 2P)/S + 1"
   ]
  },
  {
   "cell_type": "code",
   "execution_count": null,
   "metadata": {},
   "outputs": [],
   "source": [
    "class SimpleCNN(nn.Module):\n",
    "    def __init__(self):\n",
    "        super(SimpleCNN, self).__init__()\n",
    "        self.conv1 = nn.Conv2d(3, 16, 3, padding=1)\n",
    "        self.pool = nn.MaxPool2d(2, 2)\n",
    "        self.conv2 = nn.Conv2d(16, 32, 3, padding=1)\n",
    "        self.fc1 = nn.Linear(32 * 32 * 32, 512)\n",
    "        self.fc2 = nn.Linear(512, len(dataset.classes))\n",
    "\n",
    "    def forward(self, x):\n",
    "        x = self.pool(F.relu(self.conv1(x)))\n",
    "        x = self.pool(F.relu(self.conv2(x)))\n",
    "        x = x.view(-1, 32 * 32 * 32)\n",
    "        x = F.relu(self.fc1(x))\n",
    "        x = self.fc2(x)\n",
    "        return x"
   ]
  },
  {
   "cell_type": "code",
   "execution_count": null,
   "metadata": {},
   "outputs": [],
   "source": [
    "def get_accuracy(model, dataloader):\n",
    "  \"Gets accuracy for final accuracy and accuracy plots\"\n",
    "  correct=0\n",
    "  total=0\n",
    "  with torch.no_grad():\n",
    "    for imgs, labels in dataloader:\n",
    "\n",
    "      #To Enable GPU Usage\n",
    "      if use_cuda and torch.cuda.is_available():\n",
    "          # print(\"consist\")\n",
    "          imgs = imgs.cuda()\n",
    "          labels = labels.cuda()\n",
    "\n",
    "      outputs = model(imgs)\n",
    "      _, predicted = torch.max(outputs.data, 1)\n",
    "      total += labels.size(0)\n",
    "      # print(predicted)#weird size mismatch\n",
    "      # print(labels)\n",
    "\n",
    "      correct += (predicted == labels).sum().item()#adds sum of them\n",
    "  return correct/total"
   ]
  },
  {
   "cell_type": "code",
   "execution_count": null,
   "metadata": {},
   "outputs": [],
   "source": [
    "import time\n",
    "\n",
    "def train_plot(model, num_epochs):\n",
    "  criterion = nn.CrossEntropyLoss()\n",
    "  optimizer = optim.Adam(model.parameters(), lr=0.001)\n",
    "\n",
    "  iters,losses,train_acc,valid_acc =[],[],[],[]\n",
    "\n",
    "  start_time=time.time()\n",
    "  for epoch in range(num_epochs):  # Loop over the dataset multiple times\n",
    "    running_loss = 0.0\n",
    "    model.train()  # Set the model to training mode\n",
    "\n",
    "    for i, data in enumerate(train_loader, 0):\n",
    "        # Get the inputs; data is a list of [inputs, labels]\n",
    "        inputs, labels = data\n",
    "\n",
    "\n",
    "      #To Enable GPU Usage\n",
    "        if use_cuda and torch.cuda.is_available():\n",
    "          # model.cuda()\n",
    "          # print(\"consist\")\n",
    "          inputs = inputs.cuda()\n",
    "          labels = labels.cuda()\n",
    "        #############################################\n",
    "\n",
    "        # Zero the parameter gradients\n",
    "        optimizer.zero_grad()\n",
    "\n",
    "        # Forward pass\n",
    "        outputs = model(inputs)\n",
    "        loss = criterion(outputs, labels)\n",
    "\n",
    "        # Backward pass and optimize\n",
    "        loss.backward()\n",
    "        optimizer.step()\n",
    "\n",
    "        # Print statistics\n",
    "        running_loss += loss.item()\n",
    "        if i % 100 == 99:  # Print every 100 mini-batches\n",
    "            iters.append(epoch * 100 + i)\n",
    "            losses.append(running_loss / 100)\n",
    "            train_acc.append(get_accuracy(model, train_loader))\n",
    "            valid_acc.append(get_accuracy(model, val_loader))\n",
    "\n",
    "            print(f'Epoch {epoch + 1}, Minibatch {i + 1}, Loss: {running_loss / 100:.3f}')\n",
    "            print(\"\\tTime Elapsed: % 6.2f s \" % (time.time()-start_time))\n",
    "            running_loss = 0.0\n",
    "\n",
    "#done training\n",
    "  print(iters)\n",
    "  print(losses)\n",
    "\n",
    "  plt.title(\"Training Curve\")\n",
    "  plt.plot(iters, losses, label=\"Train\")\n",
    "  plt.xlabel(\"Iterations\")\n",
    "  plt.ylabel(\"Loss\")\n",
    "  plt.show()\n",
    "\n",
    "\n",
    "  plt.title(\"Accuracy Train Curve\")\n",
    "  plt.plot(iters, valid_acc, label=\"Validation\")\n",
    "  plt.plot(iters, train_acc, label=\"Training\")\n",
    "  plt.legend(loc='best')\n",
    "  plt.xlabel(\"Iterations\")\n",
    "  plt.ylabel(\"Accuracy\")\n",
    "  plt.show()\n",
    "  print(\"Final Training Accuracy: {}\".format(train_acc[-1]))\n",
    "  print(\"Final Validation Accuracy: {}\".format(valid_acc[-1]))\n",
    "\n"
   ]
  },
  {
   "cell_type": "code",
   "execution_count": null,
   "metadata": {},
   "outputs": [],
   "source": [
    "model = SimpleCNN()\n",
    "\n",
    "use_cuda = True\n",
    "\n",
    "\n",
    "if use_cuda and torch.cuda.is_available():\n",
    "  model.cuda()\n",
    "  print('CUDA is available!  Training on GPU ...')\n",
    "else:\n",
    "  print('CUDA is not available.  Training on CPU ...')\n",
    "\n",
    "train_plot(model, num_epochs=1)"
   ]
  },
  {
   "cell_type": "code",
   "execution_count": null,
   "metadata": {},
   "outputs": [],
   "source": [
    "test_acc=get_accuracy(model, test_loader)\n",
    "print(f'Final Test Accuracy: {100 * test_acc:.2f}%')"
   ]
  }
 ],
 "metadata": {
  "kernelspec": {
   "display_name": "Python 3",
   "language": "python",
   "name": "python3"
  },
  "language_info": {
   "codemirror_mode": {
    "name": "ipython",
    "version": 3
   },
   "file_extension": ".py",
   "mimetype": "text/x-python",
   "name": "python",
   "nbconvert_exporter": "python",
   "pygments_lexer": "ipython3",
   "version": "3.12.1"
  }
 },
 "nbformat": 4,
 "nbformat_minor": 2
}
